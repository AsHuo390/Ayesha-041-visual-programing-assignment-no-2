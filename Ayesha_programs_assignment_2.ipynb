{
  "nbformat": 4,
  "nbformat_minor": 0,
  "metadata": {
    "colab": {
      "name": "Ayesha programs assignment 2",
      "provenance": [],
      "collapsed_sections": [],
      "include_colab_link": true
    },
    "kernelspec": {
      "name": "python3",
      "display_name": "Python 3"
    },
    "language_info": {
      "name": "python"
    }
  },
  "cells": [
    {
      "cell_type": "markdown",
      "metadata": {
        "id": "view-in-github",
        "colab_type": "text"
      },
      "source": [
        "<a href=\"https://colab.research.google.com/github/AsHuo390/Ayesha-041-visual-programing-assignment-no-2/blob/main/Ayesha_programs_assignment_2.ipynb\" target=\"_parent\"><img src=\"https://colab.research.google.com/assets/colab-badge.svg\" alt=\"Open In Colab\"/></a>"
      ]
    },
    {
      "cell_type": "code",
      "metadata": {
        "id": "CecR5iHfoDiG",
        "colab": {
          "base_uri": "https://localhost:8080/"
        },
        "outputId": "2e9555b3-a069-4c88-cfa3-dee3f1dc4a5f"
      },
      "source": [
        " \n",
        "from math import pi\n",
        "ashuo = float (input(\"enter the radius of a circle\"))\n",
        "print(\"the area of circle is\" +str (ashuo) + \"is:\"+str (pi*ashuo**2))"
      ],
      "execution_count": 4,
      "outputs": [
        {
          "output_type": "stream",
          "text": [
            "enter the radius of a circle10\n",
            "the area of circle is10.0is:314.1592653589793\n"
          ],
          "name": "stdout"
        }
      ]
    },
    {
      "cell_type": "code",
      "metadata": {
        "colab": {
          "base_uri": "https://localhost:8080/"
        },
        "id": "9VU00ZG14tZT",
        "outputId": "580ac28e-3749-48d2-c72b-1eaebcdd9ca9"
      },
      "source": [
        " \n",
        "def p(u):\n",
        "  if len(u) == len(set (u)):\n",
        "    return True \n",
        "  else:\n",
        "    return False;\n",
        "print(p([7,8,9]))\n",
        "print(p([6,7,5,778,88,77,77]))"
      ],
      "execution_count": 2,
      "outputs": [
        {
          "output_type": "stream",
          "text": [
            "True\n",
            "False\n"
          ],
          "name": "stdout"
        }
      ]
    },
    {
      "cell_type": "code",
      "metadata": {
        "id": "QG4Oequ3o0Aq",
        "outputId": "b632c482-4658-41bd-db00-60e881231998",
        "colab": {
          "base_uri": "https://localhost:8080/"
        }
      },
      "source": [
        " \n",
        "ashi = input(\"Input some comma seprated numbers : \")\n",
        "list = ashi.split(\",\")\n",
        "tuple = tuple(list)\n",
        "print('List : ',list)\n",
        "print('Tuple : ',tuple)"
      ],
      "execution_count": 3,
      "outputs": [
        {
          "output_type": "stream",
          "text": [
            "Input some comma seprated numbers : 6,7,8\n",
            "List :  ['6', '7', '8']\n",
            "Tuple :  ('6', '7', '8')\n"
          ],
          "name": "stdout"
        }
      ]
    },
    {
      "cell_type": "code",
      "metadata": {
        "colab": {
          "base_uri": "https://localhost:8080/"
        },
        "id": "KolMijjaOJDU",
        "outputId": "1924357f-2e95-4946-9925-3f94dde91e4f"
      },
      "source": [
        " \n",
        "def remove_ashu(int_list):\n",
        "  #list starts with 0 \n",
        "  p = 3 - 1 \n",
        "  a = 0\n",
        "  len_list = (len(int_list))\n",
        "  while len_list>0:\n",
        "    a = (p+a)%len_list\n",
        "    print(int_list.pop(a))\n",
        "    len_list -= 1\n",
        "ashu = [10,20,30,40,50,60,70,80,90]\n",
        "remove_ashu(ashu)"
      ],
      "execution_count": null,
      "outputs": [
        {
          "output_type": "stream",
          "text": [
            "30\n",
            "60\n",
            "90\n",
            "40\n",
            "80\n",
            "50\n",
            "20\n",
            "70\n",
            "10\n"
          ],
          "name": "stdout"
        }
      ]
    }
  ]
}