{
  "nbformat": 4,
  "nbformat_minor": 0,
  "metadata": {
    "colab": {
      "name": "Ayesha programs assignment 2",
      "provenance": [],
      "collapsed_sections": [],
      "authorship_tag": "ABX9TyOFsnBeyyQKQqS6aFcTl+am",
      "include_colab_link": true
    },
    "kernelspec": {
      "name": "python3",
      "display_name": "Python 3"
    },
    "language_info": {
      "name": "python"
    }
  },
  "cells": [
    {
      "cell_type": "markdown",
      "metadata": {
        "id": "view-in-github",
        "colab_type": "text"
      },
      "source": [
        "<a href=\"https://colab.research.google.com/github/AsHuo390/Ayesha-041-visual-programing-assignment-no-2/blob/main/Ayesha_programs_assignment_2.ipynb\" target=\"_parent\"><img src=\"https://colab.research.google.com/assets/colab-badge.svg\" alt=\"Open In Colab\"/></a>"
      ]
    },
    {
      "cell_type": "code",
      "metadata": {
        "id": "CecR5iHfoDiG",
        "colab": {
          "base_uri": "https://localhost:8080/"
        },
        "outputId": "de645a90-c992-4b08-f9be-8bdcd134f2d9"
      },
      "source": [
        " \n",
        "from math import pi\n",
        "ashuo = float (input(\"enter the radius of a circle\"))\n",
        "print(\"the area of circle is\" +str (ashuo) + \"is:\"+str (pi*ashuo**2))"
      ],
      "execution_count": null,
      "outputs": [
        {
          "output_type": "stream",
          "text": [
            "enter the radius of a circle6\n",
            "the area of circle is6.0is:113.09733552923255\n"
          ],
          "name": "stdout"
        }
      ]
    },
    {
      "cell_type": "code",
      "metadata": {
        "colab": {
          "base_uri": "https://localhost:8080/"
        },
        "id": "9VU00ZG14tZT",
        "outputId": "97c44d02-0ef1-4719-e10b-6d334ad15c26"
      },
      "source": [
        " \n",
        "def p(u):\n",
        "  if len(u) == len(set (u)):\n",
        "    return True \n",
        "  else:\n",
        "    return False;\n",
        "print(p([7,8,9]))\n",
        "print(p([6,7,5,778,88,77]))"
      ],
      "execution_count": null,
      "outputs": [
        {
          "output_type": "stream",
          "text": [
            "True\n",
            "True\n"
          ],
          "name": "stdout"
        }
      ]
    },
    {
      "cell_type": "code",
      "metadata": {
        "id": "rHg2T4tbRtDo"
      },
      "source": [
        " \n",
        "ash = input(\"Enter a number : \")\n",
        "list = ash.split(\",\")\n",
        "tuple = tuple(list)\n",
        "print('List : ',list)\n",
        "print('Tuple : ',tuple)"
      ],
      "execution_count": null,
      "outputs": []
    },
    {
      "cell_type": "code",
      "metadata": {
        "colab": {
          "base_uri": "https://localhost:8080/"
        },
        "id": "KolMijjaOJDU",
        "outputId": "1924357f-2e95-4946-9925-3f94dde91e4f"
      },
      "source": [
        " \n",
        "def remove_ashu(int_list):\n",
        "  #list starts with 0 \n",
        "  p = 3 - 1 \n",
        "  a = 0\n",
        "  len_list = (len(int_list))\n",
        "  while len_list>0:\n",
        "    a = (p+a)%len_list\n",
        "    print(int_list.pop(a))\n",
        "    len_list -= 1\n",
        "ashu = [10,20,30,40,50,60,70,80,90]\n",
        "remove_ashu(ashu)"
      ],
      "execution_count": null,
      "outputs": [
        {
          "output_type": "stream",
          "text": [
            "30\n",
            "60\n",
            "90\n",
            "40\n",
            "80\n",
            "50\n",
            "20\n",
            "70\n",
            "10\n"
          ],
          "name": "stdout"
        }
      ]
    }
  ]
}